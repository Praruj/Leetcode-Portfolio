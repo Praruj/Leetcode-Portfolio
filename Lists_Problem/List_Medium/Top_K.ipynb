{
 "cells": [
  {
   "cell_type": "markdown",
   "id": "74599f0b",
   "metadata": {},
   "source": [
    "# Leetcode Problem: `347`\n",
    "Given an integer array `nums` and an integer `k`, return the k most frequent elements. You may return the answer in `any order. ` \n",
    "### Constraints:\n",
    "\n",
    "- $1 \\leq \\text{nums.length} \\leq 10^5$\n",
    "- $-10^4 \\leq \\text{nums}[i] \\leq 10^4$\n",
    "- $k$ is in the range $[1, \\text{the number of unique elements in the array}]$\n",
    "- It is **guaranteed** that the answer is **unique**."
   ]
  },
  {
   "cell_type": "markdown",
   "id": "953d0699",
   "metadata": {},
   "source": [
    "From this constraints we can find that the length of array is 10^5 so we should think of solution of O(N) O(nlogn); O(n^2) would be too slow or leetcode may give time limit error. "
   ]
  },
  {
   "cell_type": "code",
   "execution_count": null,
   "id": "37253167",
   "metadata": {},
   "outputs": [
    {
     "data": {
      "text/plain": [
       "[1, 2]"
      ]
     },
     "execution_count": 1,
     "metadata": {},
     "output_type": "execute_result"
    }
   ],
   "source": [
    "        # Nested Loop code (Brute force Solution)\n",
    "def frequent(nums,k):\n",
    "    freq_list=[]\n",
    "    for i in range(len(nums)):\n",
    "        num=nums[i]\n",
    "        count=0\n",
    "\n",
    "        for j in range(len(nums)):\n",
    "            if nums[j]==num:\n",
    "                count+=1\n",
    "        if [num,count] not in freq_list:\n",
    "            freq_list.append([num,count])\n",
    "    freq_list.sort(key=lambda x:x[1], reverse=True)\n",
    "    return [num for num, count in freq_list[:k]]\n",
    "\n",
    "frequent([1,1,1,2,2,3],2)\n",
    "\n",
    "# summary: the outer loop goes through all elements O(n), for each elements, the inner loop counts again which is O(n). the time complexity while sorting is O(ulogU), where u=number of unique eleents. so o(n^2) is quadriatic time. "
   ]
  },
  {
   "cell_type": "code",
   "execution_count": null,
   "id": "69929889",
   "metadata": {},
   "outputs": [
    {
     "data": {
      "text/plain": [
       "[1, 2]"
      ]
     },
     "execution_count": 4,
     "metadata": {},
     "output_type": "execute_result"
    }
   ],
   "source": [
    "# using hash map and sorting elements based on their frequency and picking top K.\n",
    "def frequent(nums, k):\n",
    "    my_map={}\n",
    "    for num in nums:\n",
    "        my_map[num]=my_map.get(num,0)+1\n",
    "    sorted_map=sorted(my_map.items(), key=lambda x: x[1], reverse=True)\n",
    "\n",
    "    result=[]\n",
    "    for i in range(k):\n",
    "        result.append(sorted_map[i][0]) \n",
    "    return result\n",
    "\n",
    "frequent([1,1,1,2,2,3],2)\n",
    "\n",
    "#another way: \n",
    "# for num, freq in sorted_map[:k]:\n",
    "#     result.append(num)\n",
    "# counting on map is O(n) and sorting is O(nlogn) as always and picking top is O(k) so total time complexity is O(nlogn) which still can be further optimized.\n",
    "# 23 / 23 testcases passed "
   ]
  },
  {
   "cell_type": "markdown",
   "id": "05071aa1",
   "metadata": {},
   "source": [
    "### Optimize solution\n",
    "we could also use bucket sort to store frequencies. The idea is to create a bucket where each index represents a frequency, and elements with the same frequency are grouped together. Then, we can access the top K frequent elements from the back of the bucket.\n",
    "\n",
    "This method also has a time complexity of O(n) in the best case, but it's not always the most efficient for all situations. Heaps are often simpler to implement and more adaptable to dynamic scenarios."
   ]
  },
  {
   "cell_type": "code",
   "execution_count": 2,
   "id": "cd895fbf",
   "metadata": {},
   "outputs": [
    {
     "data": {
      "text/plain": [
       "[1, 2]"
      ]
     },
     "execution_count": 2,
     "metadata": {},
     "output_type": "execute_result"
    }
   ],
   "source": [
    "def frequent(nums,k):\n",
    "    my_map={}\n",
    "    freq=[[] for i in range(len(nums)+1)]\n",
    "    for n in nums:\n",
    "        my_map[n]=my_map.get(n,0)+1\n",
    "    for n,c in my_map.items():\n",
    "        freq[c].append(n)\n",
    "    res=[]\n",
    "    for i in range(len(freq)-1,0,-1):\n",
    "        for n in freq[i]:\n",
    "            res.append(n)\n",
    "            if len(res)==k:\n",
    "                return res\n",
    "\n",
    "frequent([1,1,1,2,2,3],2)\n"
   ]
  }
 ],
 "metadata": {
  "kernelspec": {
   "display_name": ".venv",
   "language": "python",
   "name": "python3"
  },
  "language_info": {
   "codemirror_mode": {
    "name": "ipython",
    "version": 3
   },
   "file_extension": ".py",
   "mimetype": "text/x-python",
   "name": "python",
   "nbconvert_exporter": "python",
   "pygments_lexer": "ipython3",
   "version": "3.10.0"
  }
 },
 "nbformat": 4,
 "nbformat_minor": 5
}

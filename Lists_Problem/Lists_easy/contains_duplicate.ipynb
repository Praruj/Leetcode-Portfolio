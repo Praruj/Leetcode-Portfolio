{
 "cells": [
  {
   "cell_type": "markdown",
   "id": "9d7cc9db",
   "metadata": {
    "vscode": {
     "languageId": "plaintext"
    }
   },
   "source": [
    "# Contains Duplicate\n",
    "Given an integer array nums, return true if any value appears at least twice in the array, and return false if every element is distinct.\n",
    "constrains:\n",
    "1 <= nums.length <= 10^5 "
   ]
  },
  {
   "cell_type": "code",
   "execution_count": null,
   "id": "a66d9295",
   "metadata": {},
   "outputs": [
    {
     "data": {
      "text/plain": [
       "True"
      ]
     },
     "execution_count": 2,
     "metadata": {},
     "output_type": "execute_result"
    }
   ],
   "source": [
    "#Brute force solution. \n",
    "def contains_duplicate(nums):\n",
    "    for i in range(len(nums)): #starts a loop where i goes from 0 to len(nums)-1\n",
    "        for j in range(i+1,len(nums)):  #compairing each pair once avoiding self comparison. \n",
    "            if nums[i]==nums[j]:      #if two values are same return true\n",
    "                return True\n",
    "    return False\n",
    "contains_duplicate([1,2,3,1])\n",
    "\n",
    "# Time complexity: O(n^2). since we are using nested loop, for each element of i, we compare it to i>j. \n",
    "#but when we run this solution in leetcode, it gives Time Limit Exceeded 65 / 77 testcases passed so we think of optimize solution. \n"
   ]
  },
  {
   "cell_type": "code",
   "execution_count": null,
   "id": "36de8621",
   "metadata": {},
   "outputs": [
    {
     "data": {
      "text/plain": [
       "True"
      ]
     },
     "execution_count": 4,
     "metadata": {},
     "output_type": "execute_result"
    }
   ],
   "source": [
    "#optimize solution: using set as it removes duplicates and can be used for fast lookup. \n",
    "def contains_duplicate(nums):\n",
    "    myset=set()\n",
    "    for num in nums:\n",
    "        if num in myset:\n",
    "            return True\n",
    "        else:\n",
    "            myset.add(num)\n",
    "    return False\n",
    "contains_duplicate([1,2,3,1]) \n",
    "#this is my optimize solution, which have Time complexity of O(1) operations.   Each element is visited once; set operations (in add) are O(1) on average. \n",
    "#space complexity: O(n) to store unique elements in set.  Accepted by Leetcode"
   ]
  }
 ],
 "metadata": {
  "kernelspec": {
   "display_name": "Python 3",
   "language": "python",
   "name": "python3"
  },
  "language_info": {
   "codemirror_mode": {
    "name": "ipython",
    "version": 3
   },
   "file_extension": ".py",
   "mimetype": "text/x-python",
   "name": "python",
   "nbconvert_exporter": "python",
   "pygments_lexer": "ipython3",
   "version": "3.11.5"
  }
 },
 "nbformat": 4,
 "nbformat_minor": 5
}

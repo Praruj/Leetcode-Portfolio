{
 "cells": [
  {
   "cell_type": "markdown",
   "id": "99fe763b",
   "metadata": {},
   "source": [
    "# ** Two sum Problem**\n",
    "## Given an array of integers nums and an integer target, return indices of the two numbers such that they add up to target.You may assume that each input would have exactly one solution, and you may not use the same element twice."
   ]
  },
  {
   "cell_type": "code",
   "execution_count": 4,
   "id": "88fcc8c8",
   "metadata": {},
   "outputs": [
    {
     "name": "stdout",
     "output_type": "stream",
     "text": [
      "(0, 1)\n"
     ]
    }
   ],
   "source": [
    "#Brute force solution\n",
    "class Solution(object):\n",
    "    def twoSum(self, nums, target):\n",
    "    #[2,7,11,15] \n",
    "    #iterating all the elements\n",
    "        for i in range(len(nums)-1): #iterating from first index to second last index\n",
    "            for j in range(i+1,len(nums)):  #we should get the value of 7. \n",
    "                if nums[i]+nums[j]==target:\n",
    "                    return (i,j)\n",
    "solution = Solution()\n",
    "print(solution.twoSum([2,7,11,15], 9))  \n"
   ]
  },
  {
   "cell_type": "markdown",
   "id": "d2e406a8",
   "metadata": {},
   "source": [
    "# The solution above is a brute force approach to find two indices such that nums[i] + nums[j] == target.\n",
    "# Time complexity: O(n^2)\n",
    "# Runtime on LeetCode: 2051 ms, which is near the upper threshold given the constraints 2 <= nums.length <= 10^4"
   ]
  }
 ],
 "metadata": {
  "kernelspec": {
   "display_name": ".venv",
   "language": "python",
   "name": "python3"
  },
  "language_info": {
   "codemirror_mode": {
    "name": "ipython",
    "version": 3
   },
   "file_extension": ".py",
   "mimetype": "text/x-python",
   "name": "python",
   "nbconvert_exporter": "python",
   "pygments_lexer": "ipython3",
   "version": "3.10.0"
  }
 },
 "nbformat": 4,
 "nbformat_minor": 5
}

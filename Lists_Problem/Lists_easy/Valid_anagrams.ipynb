{
 "cells": [
  {
   "cell_type": "markdown",
   "id": "7dfba145",
   "metadata": {
    "vscode": {
     "languageId": "plaintext"
    }
   },
   "source": [
    "# Valid anagram (easy array problem of Leetcode)\n",
    "Given two strings s and t, return true if t is an anagram of s, and false otherwise.\n",
    "<br>\n",
    "Constraints: <br>\n",
    "1 <= s.length, t.length <= 5 * 10^4"
   ]
  },
  {
   "cell_type": "code",
   "execution_count": null,
   "id": "8811b71e",
   "metadata": {},
   "outputs": [
    {
     "data": {
      "text/plain": [
       "True"
      ]
     },
     "execution_count": 4,
     "metadata": {},
     "output_type": "execute_result"
    }
   ],
   "source": [
    "#Brute force solution ;  by sorting two string if they are same then they are anagra. \n",
    "def valid_anagrams(s,t):\n",
    "    if sorted(s)==sorted(t):\n",
    "        return True\n",
    "    else:\n",
    "        return False\n",
    "valid_anagrams(\"anagram\",\"nagaram\")\n",
    "\n",
    "#sorting is done by lexographical order and which is dictionary order. \n",
    "# Time complexity of sorted is O(nlogn) in worst case. This code works but however we can think of optimize solution. "
   ]
  },
  {
   "cell_type": "markdown",
   "id": "d8d8b7a3",
   "metadata": {
    "vscode": {
     "languageId": "bat"
    }
   },
   "source": [
    "# Optimize solution. <br>\n",
    "# My Algorithm.\n",
    "1. first of all if length of both string is not equal it cant be anagrams.\n",
    "2. After that we can create Hash map which will count character frequency of one string and if same character is present in another string we will substract the count. if values of hashmap is zero then it is anagram other False."
   ]
  },
  {
   "cell_type": "code",
   "execution_count": 6,
   "id": "437dc54a",
   "metadata": {},
   "outputs": [
    {
     "data": {
      "text/plain": [
       "True"
      ]
     },
     "execution_count": 6,
     "metadata": {},
     "output_type": "execute_result"
    }
   ],
   "source": [
    "def Valid_anagrams(s,t):\n",
    "    if len(s)!=len(t): #takes O(1) time. \n",
    "        return False\n",
    "    mymap={}\n",
    "    for char in s:  #O(n) each character in s over n time. \n",
    "        mymap[char]=mymap.get(char,0)+1\n",
    "    for char in t:   #O(n)\n",
    "        mymap[char]=mymap.get(char,0)-1\n",
    "    for value in mymap.values(): #loop runs for O(n) times.\n",
    "        if value!=0:\n",
    "            return False\n",
    "    return True\n",
    "valid_anagrams(\"anagram\",\"nagaram\")\n",
    "\n",
    "# Time complexity: Hence the over time complexity is O(n).\n",
    "# Space compexity: O(n) because the dictionary, mymap={} stores at most n keys."
   ]
  }
 ],
 "metadata": {
  "kernelspec": {
   "display_name": "Python 3",
   "language": "python",
   "name": "python3"
  },
  "language_info": {
   "codemirror_mode": {
    "name": "ipython",
    "version": 3
   },
   "file_extension": ".py",
   "mimetype": "text/x-python",
   "name": "python",
   "nbconvert_exporter": "python",
   "pygments_lexer": "ipython3",
   "version": "3.11.5"
  }
 },
 "nbformat": 4,
 "nbformat_minor": 5
}

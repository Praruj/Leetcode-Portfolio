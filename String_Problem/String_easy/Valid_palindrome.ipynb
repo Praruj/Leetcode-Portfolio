{
 "cells": [
  {
   "cell_type": "markdown",
   "id": "412b8a8a",
   "metadata": {},
   "source": [
    "# Valid Palindrome\n",
    "A phrase is a palindrome if, after converting all uppercase letters into lowercase letters and removing all non-alphanumeric characters, it reads the same forward and backward. Alphanumeric characters include letters and numbers.\n",
    "Given a string s, return true if it is a palindrome, or false otherwise.\n",
    "<br>\n",
    "constraints:\n",
    "1 <= s.length <= 2 * 105 <br>\n",
    "s consists only of printable ASCII characters."
   ]
  },
  {
   "cell_type": "code",
   "execution_count": null,
   "id": "e0da7e21",
   "metadata": {},
   "outputs": [
    {
     "data": {
      "text/plain": [
       "True"
      ]
     },
     "execution_count": 1,
     "metadata": {},
     "output_type": "execute_result"
    }
   ],
   "source": [
    "# my first approach while reading the description i thought of making all string charcters lowercase and removing alphanumeric values and checking original string is equal to reversed one:\n",
    "\n",
    "def palindrome(s):\n",
    "    cleaned_string=[]\n",
    "    for char in s: #O(n)\n",
    "        if char.isalnum(): #check if the character is alphanumeric\n",
    "            cleaned_string.append(char.lower())  #converting to lowercase and add to list.\n",
    "    cleaned_string=\"\".join(cleaned_string) #O(n)\n",
    "    if cleaned_string==cleaned_string[::-1]: #O(n)\n",
    "        return True\n",
    "    else:\n",
    "        return False\n",
    "palindrome(\"A man, a plan, a canal: Panama\")\n",
    "\n",
    "# The run time is 13ms. and all the test cases were passed. \n",
    "# time complexity is O(n)"
   ]
  },
  {
   "cell_type": "markdown",
   "id": "e3bd05f6",
   "metadata": {},
   "source": [
    "# list comprehension:\n",
    "cleaned_strinf=\"\".join([char.lower() for char in s if char.isalnum()]) <br>\n",
    "The above solution is neither bruteforce nor optimized so, we can think of optimize solution."
   ]
  },
  {
   "cell_type": "code",
   "execution_count": null,
   "id": "0ad720e2",
   "metadata": {},
   "outputs": [
    {
     "data": {
      "text/plain": [
       "True"
      ]
     },
     "execution_count": 1,
     "metadata": {},
     "output_type": "execute_result"
    }
   ],
   "source": [
    "# optimize solution using Two pointers.\n",
    "def palindrome(s):\n",
    "    start=0\n",
    "    end=len(s)-1\n",
    "    while start<end: \n",
    "        #skip non-alphanumeric characters by incrementing the start pointer\n",
    "        if not s[start].isalnum():\n",
    "            start+=1\n",
    "        # skip the non-alphanumeric characters by decreasing the end pointer\n",
    "        elif not s[end].isalnum():\n",
    "            end-=1\n",
    "        # if characters are equal (ignoring case),move both pointers.       \n",
    "        elif s[start].lower()!=s[end].lower():\n",
    "            return False\n",
    "        else:\n",
    "            start+=1\n",
    "            end-=1\n",
    "    return True\n",
    "palindrome(\"A man, a plan, a canal: Panama\")\n",
    "\n",
    "# time complexity O(n), because  it requires single pass through string offering optimal solution."
   ]
  }
 ],
 "metadata": {
  "kernelspec": {
   "display_name": ".venv",
   "language": "python",
   "name": "python3"
  },
  "language_info": {
   "codemirror_mode": {
    "name": "ipython",
    "version": 3
   },
   "file_extension": ".py",
   "mimetype": "text/x-python",
   "name": "python",
   "nbconvert_exporter": "python",
   "pygments_lexer": "ipython3",
   "version": "3.11.5"
  }
 },
 "nbformat": 4,
 "nbformat_minor": 5
}

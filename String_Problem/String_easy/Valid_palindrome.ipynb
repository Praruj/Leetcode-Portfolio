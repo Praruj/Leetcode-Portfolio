{
 "cells": [
  {
   "cell_type": "markdown",
   "id": "412b8a8a",
   "metadata": {},
   "source": [
    "# Valid Palindrome\n",
    "A phrase is a palindrome if, after converting all uppercase letters into lowercase letters and removing all non-alphanumeric characters, it reads the same forward and backward. Alphanumeric characters include letters and numbers.\n",
    "Given a string s, return true if it is a palindrome, or false otherwise.\n",
    "<br>\n",
    "constraints:\n",
    "1 <= s.length <= 2 * 105 <br>\n",
    "s consists only of printable ASCII characters."
   ]
  },
  {
   "cell_type": "code",
   "execution_count": null,
   "id": "e0da7e21",
   "metadata": {},
   "outputs": [
    {
     "data": {
      "text/plain": [
       "True"
      ]
     },
     "execution_count": 1,
     "metadata": {},
     "output_type": "execute_result"
    }
   ],
   "source": [
    "# my first approach while reading the description i thought of making all string charcters lowercase and removing alphanumeric values and checking original string is equal to reversed one:\n",
    "\n",
    "def palindrome(s):\n",
    "    cleaned_string=[]\n",
    "    for char in s: #O(n)\n",
    "        if char.isalnum(): #check if the character is alphanumeric\n",
    "            cleaned_string.append(char.lower())  #converting to lowercase and add to list.\n",
    "    cleaned_string=\"\".join(cleaned_string) #O(n)\n",
    "    if cleaned_string==cleaned_string[::-1]: #O(n)\n",
    "        return True\n",
    "    else:\n",
    "        return False\n",
    "palindrome(\"A man, a plan, a canal: Panama\")\n",
    "\n",
    "# The run time is 13ms. and all the test cases were passed. \n",
    "# time complexity is O(n)"
   ]
  },
  {
   "cell_type": "markdown",
   "id": "e3bd05f6",
   "metadata": {},
   "source": [
    "# list comprehension:\n",
    "cleaned_strinf=\"\".join([char.lower() for char in s if char.isalnum()])\n",
    "# the above solution is neither bruteforce nor optimized so, we can think of optimize solution."
   ]
  }
 ],
 "metadata": {
  "kernelspec": {
   "display_name": "Python 3",
   "language": "python",
   "name": "python3"
  },
  "language_info": {
   "codemirror_mode": {
    "name": "ipython",
    "version": 3
   },
   "file_extension": ".py",
   "mimetype": "text/x-python",
   "name": "python",
   "nbconvert_exporter": "python",
   "pygments_lexer": "ipython3",
   "version": "3.11.5"
  }
 },
 "nbformat": 4,
 "nbformat_minor": 5
}

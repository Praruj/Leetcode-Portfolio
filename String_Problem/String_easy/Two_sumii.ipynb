{
 "cells": [
  {
   "cell_type": "markdown",
   "id": "9e737414",
   "metadata": {},
   "source": [
    "# Two Sum II - Input Array Is Sorted\n",
    "Given a 1-indexed array of integers numbers that is already sorted in non-decreasing order, find two numbers such that they add up to a specific target number. Let these two numbers be numbers[index1] and numbers[index2] where 1 <= index1 < index2 <= numbers.length.\n",
    "\n",
    "Return the indices of the two numbers, index1 and index2, added by one as an integer array [index1, index2] of length 2."
   ]
  },
  {
   "cell_type": "code",
   "execution_count": null,
   "id": "0d05672d",
   "metadata": {},
   "outputs": [
    {
     "data": {
      "text/plain": [
       "[1, 2]"
      ]
     },
     "execution_count": 3,
     "metadata": {},
     "output_type": "execute_result"
    }
   ],
   "source": [
    "# First we think of brute force solution: I will use nested loop one to check from first index and and second index of if their sum matches target then will return their index position.\n",
    "def two_sum(numbers,target):\n",
    "    for i in range(len(numbers)):\n",
    "        for j in range(i+1,len(numbers)):\n",
    "            if numbers[i]+numbers[j]==target:\n",
    "                return [i+1,j+1] #return 1-based index\n",
    "    return []\n",
    "two_sum([2,7,11,12],9)\n",
    "\n",
    "# the brute force solution is good but have quadriatic time complexity O(n^2), which is inefficient  for large inputs.\n",
    "# in leetcode it exceeds time limit, since, (10^4)^2=10^16"
   ]
  },
  {
   "cell_type": "markdown",
   "id": "cf45df5a",
   "metadata": {},
   "source": [
    "# Optimized solution using two pointers.\n",
    "# In the general Two Sum problem (unsorted array), we use a hash map to track complements.\n",
    "# But here the input array is sorted, so we can use the two-pointer technique to solve it in O(n) time and O(1) space."
   ]
  },
  {
   "cell_type": "code",
   "execution_count": null,
   "id": "074ebfc1",
   "metadata": {},
   "outputs": [
    {
     "data": {
      "text/plain": [
       "[1, 2]"
      ]
     },
     "execution_count": 1,
     "metadata": {},
     "output_type": "execute_result"
    }
   ],
   "source": [
    "#optimize solution\n",
    "def two_sum(numbers,target):\n",
    "    start=0\n",
    "    end=len(numbers)-1\n",
    "    while start<end:\n",
    "        total=numbers[start]+numbers[end]\n",
    "        if total==target:\n",
    "            return [start+1,end+1]\n",
    "        elif total<target:\n",
    "            start+=1\n",
    "        else:\n",
    "            end-=1\n",
    "two_sum([2,7,11,12],9)\n",
    "\n",
    "# time complexity: O(n) is optimize solutions for this problem, which is achieved by two-pointers."
   ]
  },
  {
   "cell_type": "code",
   "execution_count": null,
   "id": "fb6652ba",
   "metadata": {},
   "outputs": [
    {
     "data": {
      "text/plain": [
       "[1, 2]"
      ]
     },
     "execution_count": 2,
     "metadata": {},
     "output_type": "execute_result"
    }
   ],
   "source": [
    "# Hash map: approach : this can be perfect when array is unsorted, because we cant assume anything about position of the numbers.\n",
    "def two_sum(numbers,target):\n",
    "    mymap={}\n",
    "    for i, num in enumerate(numbers):\n",
    "        compliment=target-num\n",
    "        if compliment in mymap:\n",
    "            return [mymap[compliment]+1,i+1]\n",
    "        mymap[num]=i \n",
    "two_sum([2,7,11,12],9)\n",
    "\n",
    "# Time Complexity: O(n)\n",
    "# This is perfect when the array is unsorted, because you can't assume anything about the position of the numbers."
   ]
  }
 ],
 "metadata": {
  "kernelspec": {
   "display_name": "Python 3",
   "language": "python",
   "name": "python3"
  },
  "language_info": {
   "codemirror_mode": {
    "name": "ipython",
    "version": 3
   },
   "file_extension": ".py",
   "mimetype": "text/x-python",
   "name": "python",
   "nbconvert_exporter": "python",
   "pygments_lexer": "ipython3",
   "version": "3.11.5"
  }
 },
 "nbformat": 4,
 "nbformat_minor": 5
}
